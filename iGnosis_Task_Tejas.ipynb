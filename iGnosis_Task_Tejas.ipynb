{
  "nbformat": 4,
  "nbformat_minor": 0,
  "metadata": {
    "colab": {
      "provenance": [],
      "authorship_tag": "ABX9TyNx561sE+3nAs9IEl5BS3iq",
      "include_colab_link": true
    },
    "kernelspec": {
      "name": "python3",
      "display_name": "Python 3"
    },
    "language_info": {
      "name": "python"
    }
  },
  "cells": [
    {
      "cell_type": "markdown",
      "metadata": {
        "id": "view-in-github",
        "colab_type": "text"
      },
      "source": [
        "<a href=\"https://colab.research.google.com/github/tejasprasadd/iGnosis-Task-Tejas/blob/main/iGnosis_Task_Tejas.ipynb\" target=\"_parent\"><img src=\"https://colab.research.google.com/assets/colab-badge.svg\" alt=\"Open In Colab\"/></a>"
      ]
    },
    {
      "cell_type": "code",
      "source": [
        "pip install tabulate pandas"
      ],
      "metadata": {
        "colab": {
          "base_uri": "https://localhost:8080/"
        },
        "id": "85dtWaH4HFjh",
        "outputId": "c60b3a23-ad7c-4584-8709-d4a1d7aae0d8"
      },
      "execution_count": 16,
      "outputs": [
        {
          "output_type": "stream",
          "name": "stdout",
          "text": [
            "Requirement already satisfied: tabulate in /usr/local/lib/python3.11/dist-packages (0.9.0)\n",
            "Requirement already satisfied: pandas in /usr/local/lib/python3.11/dist-packages (2.2.2)\n",
            "Requirement already satisfied: numpy>=1.23.2 in /usr/local/lib/python3.11/dist-packages (from pandas) (1.26.4)\n",
            "Requirement already satisfied: python-dateutil>=2.8.2 in /usr/local/lib/python3.11/dist-packages (from pandas) (2.8.2)\n",
            "Requirement already satisfied: pytz>=2020.1 in /usr/local/lib/python3.11/dist-packages (from pandas) (2024.2)\n",
            "Requirement already satisfied: tzdata>=2022.7 in /usr/local/lib/python3.11/dist-packages (from pandas) (2025.1)\n",
            "Requirement already satisfied: six>=1.5 in /usr/local/lib/python3.11/dist-packages (from python-dateutil>=2.8.2->pandas) (1.17.0)\n"
          ]
        }
      ]
    },
    {
      "cell_type": "code",
      "execution_count": 24,
      "metadata": {
        "colab": {
          "base_uri": "https://localhost:8080/"
        },
        "id": "0RrwMvxltipO",
        "outputId": "0522c1f0-a39b-4632-b946-09b3080b29be"
      },
      "outputs": [
        {
          "output_type": "stream",
          "name": "stdout",
          "text": [
            "\n",
            "========================================\n",
            " TOP 3 BESTSELLING PRODUCTS \n",
            "========================================\n",
            "+----+----------+------------------------------------------+--------------------+------------+\n",
            "|    | PROD_NBR |                PROD_NAME                 |    total_sales     | units_sold |\n",
            "+----+----------+------------------------------------------+--------------------+------------+\n",
            "| 3  |    4     |     Dorito Corn Chp     Supreme 380g     |      40352.0       |    6509    |\n",
            "| 13 |    14    |  Smiths Crnkle Chip  Orgnl Big Bag 380g  |      36367.6       |    6164    |\n",
            "| 15 |    16    | Smiths Crinkle Chips Salt & Vinegar 330g | 34804.200000000004 |    6106    |\n",
            "+----+----------+------------------------------------------+--------------------+------------+\n",
            "\n",
            "========================================\n",
            " MONTHLY SALES TRENDS \n",
            "========================================\n",
            "+------------+----------------------------------+------------------------------------------+----------------------------------------+\n",
            "| YEAR_MONTH | Dorito Corn Chp     Supreme 380g | Smiths Crinkle Chips Salt & Vinegar 330g | Smiths Crnkle Chip  Orgnl Big Bag 380g |\n",
            "+------------+----------------------------------+------------------------------------------+----------------------------------------+\n",
            "|  1970-01   |             40352.0              |            34804.200000000004            |                36367.6                 |\n",
            "+------------+----------------------------------+------------------------------------------+----------------------------------------+\n",
            "\n",
            "========================================\n",
            " SEGMENT ANALYSIS \n",
            "========================================\n",
            "+----+----------------+------------------+----------------+-------------+\n",
            "|    |   LIFESTAGE    | PREMIUM_CUSTOMER | customer_count | total_spend |\n",
            "+----+----------------+------------------+----------------+-------------+\n",
            "| 6  | OLDER FAMILIES |      Budget      |      1887      |  117316.85  |\n",
            "| 15 | YOUNG FAMILIES |      Budget      |      1544      |  95199.65   |\n",
            "| 7  | OLDER FAMILIES |    Mainstream    |      1168      |   72785.7   |\n",
            "| 16 | YOUNG FAMILIES |    Mainstream    |      1018      |   61610.6   |\n",
            "| 8  | OLDER FAMILIES |     Premium      |      921       |   57561.8   |\n",
            "+----+----------------+------------------+----------------+-------------+\n",
            "\n",
            "========================================\n",
            " PRODUCT PREFERENCE BY TOP SEGMENTS \n",
            "========================================\n",
            "+-----+----------------+------------------+------------------------------------------+--------------------+\n",
            "|     |   LIFESTAGE    | PREMIUM_CUSTOMER |                PROD_NAME                 |    total_sales     |\n",
            "+-----+----------------+------------------+------------------------------------------+--------------------+\n",
            "| 822 | OLDER FAMILIES |     Premium      |     Dorito Corn Chp     Supreme 380g     |       2457.0       |\n",
            "| 594 | OLDER FAMILIES |      Budget      |     Dorito Corn Chp     Supreme 380g     |      2310.75       |\n",
            "| 660 | OLDER FAMILIES |      Budget      | Smiths Crinkle Chips Salt & Vinegar 330g | 2257.2000000000003 |\n",
            "| 589 | OLDER FAMILIES |      Budget      |           Cheezels Cheese 330g           |       2245.8       |\n",
            "| 659 | OLDER FAMILIES |      Budget      |    Smiths Crinkle      Original 330g     |       2205.9       |\n",
            "+-----+----------------+------------------+------------------------------------------+--------------------+\n",
            "\n",
            "========================================\n",
            " CUSTOMER TYPE DISTRIBUTION \n",
            "========================================\n",
            "+----+------------------------+------------------+---------------+\n",
            "|    |       LIFESTAGE        | PREMIUM_CUSTOMER | num_customers |\n",
            "+----+------------------------+------------------+---------------+\n",
            "| 19 | YOUNG SINGLES/COUPLES  |    Mainstream    |     8088      |\n",
            "| 13 |        RETIREES        |    Mainstream    |     6479      |\n",
            "| 10 | OLDER SINGLES/COUPLES  |    Mainstream    |     4930      |\n",
            "| 9  | OLDER SINGLES/COUPLES  |      Budget      |     4929      |\n",
            "| 11 | OLDER SINGLES/COUPLES  |     Premium      |     4750      |\n",
            "| 6  |     OLDER FAMILIES     |      Budget      |     4675      |\n",
            "| 12 |        RETIREES        |      Budget      |     4454      |\n",
            "| 15 |     YOUNG FAMILIES     |      Budget      |     4017      |\n",
            "| 14 |        RETIREES        |     Premium      |     3872      |\n",
            "| 18 | YOUNG SINGLES/COUPLES  |      Budget      |     3779      |\n",
            "| 1  | MIDAGE SINGLES/COUPLES |    Mainstream    |     3340      |\n",
            "| 7  |     OLDER FAMILIES     |    Mainstream    |     2831      |\n",
            "| 16 |     YOUNG FAMILIES     |    Mainstream    |     2728      |\n",
            "| 20 | YOUNG SINGLES/COUPLES  |     Premium      |     2574      |\n",
            "| 17 |     YOUNG FAMILIES     |     Premium      |     2433      |\n",
            "| 2  | MIDAGE SINGLES/COUPLES |     Premium      |     2431      |\n",
            "| 8  |     OLDER FAMILIES     |     Premium      |     2274      |\n",
            "| 0  | MIDAGE SINGLES/COUPLES |      Budget      |     1504      |\n",
            "| 3  |      NEW FAMILIES      |      Budget      |     1112      |\n",
            "| 4  |      NEW FAMILIES      |    Mainstream    |      849      |\n",
            "| 5  |      NEW FAMILIES      |     Premium      |      588      |\n",
            "+----+------------------------+------------------+---------------+\n"
          ]
        }
      ],
      "source": [
        "import pandas as pd\n",
        "from tabulate import tabulate\n",
        "\n",
        "# Load datasets\n",
        "transaction_df = pd.read_csv(\"/content/transaction_data.csv\")\n",
        "transaction_df[\"DATE\"] = pd.to_datetime(transaction_df[\"DATE\"], errors='coerce')\n",
        "purchase_df = pd.read_csv(\"/content/purchase_behaviour.csv\")\n",
        "\n",
        "# Remove invalid dates\n",
        "transaction_df = transaction_df.dropna(subset=[\"DATE\"])\n",
        "transaction_df[\"YEAR_MONTH\"] = transaction_df[\"DATE\"].dt.to_period(\"M\")\n",
        "\n",
        "# Identify top 3 bestselling products\n",
        "product_sales = transaction_df.groupby([\"PROD_NBR\", \"PROD_NAME\"]).agg(\n",
        "    total_sales=(\"TOT_SALES\", \"sum\"),\n",
        "    units_sold=(\"PROD_QTY\", \"sum\")\n",
        ").reset_index()\n",
        "\n",
        "top_products = product_sales.sort_values(by=\"total_sales\", ascending=False).head(3)\n",
        "print(\"\\n\" + \"=\"*40)\n",
        "print(\" TOP 3 BESTSELLING PRODUCTS \")\n",
        "print(\"=\"*40)\n",
        "print(tabulate(top_products, headers=\"keys\", tablefmt=\"pretty\"))\n",
        "\n",
        "# Monthly sales trends for top products\n",
        "top_product_ids = top_products[\"PROD_NBR\"].tolist()\n",
        "monthly_trends = transaction_df[transaction_df[\"PROD_NBR\"].isin(top_product_ids)]\n",
        "monthly_trends = monthly_trends.groupby([\"PROD_NAME\", \"YEAR_MONTH\"])[\"TOT_SALES\"].sum().unstack(0)\n",
        "print(\"\\n\" + \"=\"*40)\n",
        "print(\" MONTHLY SALES TRENDS \")\n",
        "print(\"=\"*40)\n",
        "print(tabulate(monthly_trends.tail(10).fillna(0), headers=\"keys\", tablefmt=\"pretty\"))\n",
        "\n",
        "# Customer purchase frequency and spend\n",
        "customer_spending = transaction_df.groupby(\"LYLTY_CARD_NBR\").agg(\n",
        "    transactions=(\"TXN_ID\", \"count\"),\n",
        "    total_spent=(\"TOT_SALES\", \"sum\")\n",
        ").reset_index()\n",
        "\n",
        "# Identify high-value customers (top 20% spenders)\n",
        "high_value_customers = customer_spending[customer_spending[\"total_spent\"] > customer_spending[\"total_spent\"].quantile(0.8)]\n",
        "\n",
        "# Merge with customer demographics\n",
        "high_value_customers = high_value_customers.merge(purchase_df, on=\"LYLTY_CARD_NBR\", how=\"left\")\n",
        "\n",
        "# Segment Analysis\n",
        "segment_analysis = high_value_customers.groupby([\"LIFESTAGE\", \"PREMIUM_CUSTOMER\"]).agg(\n",
        "    customer_count=(\"LYLTY_CARD_NBR\", \"nunique\"),\n",
        "    total_spend=(\"total_spent\", \"sum\")\n",
        ").reset_index().sort_values(by=\"total_spend\", ascending=False)\n",
        "print(\"\\n\" + \"=\"*40)\n",
        "print(\" SEGMENT ANALYSIS \")\n",
        "print(\"=\"*40)\n",
        "print(tabulate(segment_analysis.head(5), headers=\"keys\", tablefmt=\"pretty\"))\n",
        "\n",
        "# Product preference by top segments\n",
        "segment_transactions = transaction_df.merge(high_value_customers, on=\"LYLTY_CARD_NBR\", how=\"inner\")\n",
        "product_preference = segment_transactions.groupby([\"LIFESTAGE\", \"PREMIUM_CUSTOMER\", \"PROD_NAME\"]).agg(\n",
        "    total_sales=(\"TOT_SALES\", \"sum\")\n",
        ").reset_index().sort_values(by=\"total_sales\", ascending=False)\n",
        "print(\"\\n\" + \"=\"*40)\n",
        "print(\" PRODUCT PREFERENCE BY TOP SEGMENTS \")\n",
        "print(\"=\"*40)\n",
        "print(tabulate(product_preference.head(5), headers=\"keys\", tablefmt=\"pretty\"))\n",
        "\n",
        "# Number of different types of customers\n",
        "customer_distribution = purchase_df.groupby([\"LIFESTAGE\", \"PREMIUM_CUSTOMER\"]).agg(\n",
        "    num_customers=(\"LYLTY_CARD_NBR\", \"nunique\")\n",
        ").reset_index().sort_values(by=\"num_customers\", ascending=False)\n",
        "print(\"\\n\" + \"=\"*40)\n",
        "print(\" CUSTOMER TYPE DISTRIBUTION \")\n",
        "print(\"=\"*40)\n",
        "print(tabulate(customer_distribution, headers=\"keys\", tablefmt=\"pretty\"))\n"
      ]
    },
    {
      "cell_type": "markdown",
      "source": [
        "# **My Hypothesis**\n",
        "\n",
        " **1.Family-Oriented Shoppers (Older & Younger Families)**:\n",
        "\n",
        "These customers likely prefer products that offer value for money, such as larger pack sizes, bulk discounts, and family-friendly options.\n",
        "Their purchasing patterns indicate frequent repition of buying  household essentials, snacks for children, and convenient meal solutions.\n",
        "\n",
        "**2.Premium Customers**:\n",
        "\n",
        "They are drawn to high-quality or specialty products, such as organic, gourmet, or health-conscious options.\n",
        "These shoppers are less price-sensitive but value exclusivity, brand reputation, and convenience.\n",
        "\n",
        "**3.Budget-Conscious Shoppers**:\n",
        "\n",
        "These customers tend to buy products on promotion, lower-cost alternatives, or store-brand items.\n",
        "Bulk buying is prevalent among this group to maximize savings over time.\n",
        "\n",
        "**4.Frequent Shoppers**:\n",
        "\n",
        "Customers with high transaction frequency are drawn to daily-use consumables like beverages, snacks, and personal care items.\n",
        "They also take advantage of loyalty discounts and promotional offers, making them more engaged in the store’s marketing strategies."
      ],
      "metadata": {
        "id": "wCUECK7H7Fxx"
      }
    }
  ]
}